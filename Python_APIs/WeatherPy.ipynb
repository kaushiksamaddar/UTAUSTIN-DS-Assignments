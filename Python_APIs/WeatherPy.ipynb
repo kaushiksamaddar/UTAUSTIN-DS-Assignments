{
 "cells": [
  {
   "cell_type": "code",
   "execution_count": 1,
   "metadata": {},
   "outputs": [],
   "source": [
    "import json\n",
    "import citipy\n",
    "import requests\n",
    "import pprint\n",
    "import random\n",
    "import numpy as np\n",
    "from config import api_key"
   ]
  },
  {
   "cell_type": "code",
   "execution_count": 2,
   "metadata": {},
   "outputs": [],
   "source": [
    "#Create a City Dictionary to capture Cities against a set.\n",
    "#A Set of 10 Dictionaries will be created.\n",
    "#Each Set will hold 100 different city names.\n",
    "\n",
    "cityDict = {}\n",
    "\n",
    "#Iterate for 10 times. This will create 10 Sets.\n",
    "for x in range(10):\n",
    "    cityList = [] #List to capture 100 cities against the given set.\n",
    "    #Iterate to generate 100 different cities\n",
    "    for i in range(100):\n",
    "        def getCity():\n",
    "            '''\n",
    "                Generate Random Latitudes and Longitudes.\n",
    "                Use citipy library to fetch the nearest city.\n",
    "                The cities will be validated for uniqueness to eliminate duplicacies\n",
    "            '''\n",
    "            latitude = random.random()*10.33 #City Latitude\n",
    "            longitude = random.random()*20.45 #City Longitude\n",
    "            city = citipy.nearest_city(latitude=latitude, longitude=longitude) #Fetch the nearest city\n",
    "\n",
    "            #Check if the cityList contains the city already.\n",
    "            if cityList.__contains__(city.city_name):\n",
    "                getCity()             #If duplicate, call getCity again to fetch a new city\n",
    "            else:\n",
    "                #Update the city list with the city name.\n",
    "                cityList.append(city.city_name)\n",
    "\n",
    "        getCity()\n",
    "    \n",
    "    cityDict[x] = cityList #Populate the set and the city list.\n"
   ]
  },
  {
   "cell_type": "code",
   "execution_count": 3,
   "metadata": {},
   "outputs": [],
   "source": [
    "# with open('city.list.json')as json_data:\n",
    "#     city_json = json.load(json_data)"
   ]
  },
  {
   "cell_type": "code",
   "execution_count": 4,
   "metadata": {},
   "outputs": [],
   "source": [
    "listToCheck = []\n",
    "rNum = 0"
   ]
  },
  {
   "cell_type": "code",
   "execution_count": 12,
   "metadata": {},
   "outputs": [],
   "source": [
    "# def getResponse(city):\n",
    "#     '''\n",
    "#     '''\n",
    "#     print(f\"Processing record for city: {city}\")\n",
    "#     url_target = \"http://api.openweathermap.org/data/2.5/weather?\"\n",
    "#     query_url = f\"{url_target}units=Imperial&appid={api_key}&q={city}\"\n",
    "#     print(query_url)\n",
    "#     response = requests.get(query_url).json()\n",
    "#     return response\n",
    "    \n",
    "# response = [getResponse(city) for city in ['austin','marawi']]"
   ]
  },
  {
   "cell_type": "code",
   "execution_count": 13,
   "metadata": {},
   "outputs": [],
   "source": [
    "#print(json.dumps(response, indent=4, sort_keys=True))"
   ]
  },
  {
   "cell_type": "code",
   "execution_count": null,
   "metadata": {},
   "outputs": [],
   "source": []
  }
 ],
 "metadata": {
  "kernelspec": {
   "display_name": "pythondata",
   "language": "python",
   "name": "pythondata"
  },
  "language_info": {
   "codemirror_mode": {
    "name": "ipython",
    "version": 3
   },
   "file_extension": ".py",
   "mimetype": "text/x-python",
   "name": "python",
   "nbconvert_exporter": "python",
   "pygments_lexer": "ipython3",
   "version": "3.7.0"
  }
 },
 "nbformat": 4,
 "nbformat_minor": 2
}
