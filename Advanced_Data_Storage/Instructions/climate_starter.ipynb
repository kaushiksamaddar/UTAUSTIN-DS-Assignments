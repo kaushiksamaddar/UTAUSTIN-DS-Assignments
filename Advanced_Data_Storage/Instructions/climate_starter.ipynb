{
 "cells": [
  {
   "cell_type": "code",
   "execution_count": 1,
   "metadata": {},
   "outputs": [],
   "source": [
    "%matplotlib inline\n",
    "from matplotlib import style\n",
    "style.use('fivethirtyeight')\n",
    "import matplotlib.pyplot as plt"
   ]
  },
  {
   "cell_type": "code",
   "execution_count": 2,
   "metadata": {},
   "outputs": [],
   "source": [
    "import numpy as np\n",
    "import pandas as pd"
   ]
  },
  {
   "cell_type": "code",
   "execution_count": 3,
   "metadata": {},
   "outputs": [],
   "source": [
    "import datetime as dt"
   ]
  },
  {
   "cell_type": "markdown",
   "metadata": {},
   "source": [
    "# Reflect Tables into SQLAlchemy ORM"
   ]
  },
  {
   "cell_type": "code",
   "execution_count": 4,
   "metadata": {},
   "outputs": [],
   "source": [
    "# Python SQL toolkit and Object Relational Mapper\n",
    "import sqlalchemy\n",
    "from sqlalchemy.ext.automap import automap_base\n",
    "from sqlalchemy.orm import Session\n",
    "from sqlalchemy import create_engine, func"
   ]
  },
  {
   "cell_type": "code",
   "execution_count": 5,
   "metadata": {},
   "outputs": [],
   "source": [
    "engine = create_engine(\"sqlite:///Resources/hawaii.sqlite\")"
   ]
  },
  {
   "cell_type": "code",
   "execution_count": 6,
   "metadata": {},
   "outputs": [],
   "source": [
    "# reflect an existing database into a new model\n",
    "Base = automap_base()\n",
    "# reflect the tables\n",
    "Base.prepare(engine, reflect=True)"
   ]
  },
  {
   "cell_type": "code",
   "execution_count": 7,
   "metadata": {},
   "outputs": [
    {
     "data": {
      "text/plain": [
       "['measurement', 'station']"
      ]
     },
     "execution_count": 7,
     "metadata": {},
     "output_type": "execute_result"
    }
   ],
   "source": [
    "# We can view all of the classes that automap found\n",
    "Base.classes.keys()"
   ]
  },
  {
   "cell_type": "code",
   "execution_count": 8,
   "metadata": {},
   "outputs": [],
   "source": [
    "# Save references to each table\n",
    "Measurement = Base.classes.measurement\n",
    "Station = Base.classes.station"
   ]
  },
  {
   "cell_type": "code",
   "execution_count": 9,
   "metadata": {},
   "outputs": [],
   "source": [
    "# Create our session (link) from Python to the DB\n",
    "session = Session(engine)"
   ]
  },
  {
   "cell_type": "code",
   "execution_count": 10,
   "metadata": {},
   "outputs": [
    {
     "name": "stdout",
     "output_type": "stream",
     "text": [
      "Columns of the measurement table \n",
      "\n",
      "id INTEGER\n",
      "station TEXT\n",
      "date TEXT\n",
      "prcp FLOAT\n",
      "tobs FLOAT\n",
      "\n",
      "Columns of the Station table \n",
      "\n",
      "id INTEGER\n",
      "station TEXT\n",
      "name TEXT\n",
      "latitude FLOAT\n",
      "longitude FLOAT\n",
      "elevation FLOAT\n"
     ]
    }
   ],
   "source": [
    "#Create an Inspector to the db\n",
    "from sqlalchemy import inspect\n",
    "\n",
    "inspector = inspect(engine)\n",
    "\n",
    "print(\"Columns of the measurement table \\n\")\n",
    "#columns of the measurement table\n",
    "measurementCols = inspector.get_columns('measurement')\n",
    "for mCol in measurementCols:\n",
    "    print(mCol['name'], mCol['type'])\n",
    "    \n",
    "\n",
    "print(\"\\nColumns of the Station table \\n\")\n",
    "#columns of the station table\n",
    "stationCols = inspector.get_columns('station')\n",
    "for sCol in stationCols:\n",
    "    print(sCol['name'], sCol['type'])"
   ]
  },
  {
   "cell_type": "code",
   "execution_count": 11,
   "metadata": {},
   "outputs": [],
   "source": [
    "# #print the data for the measurement table\n",
    "# print(\"\\nMeasurement Table Data\")\n",
    "\n",
    "# for thisClass in Base.classes.keys():\n",
    "#     print(\"\\nclass %s \\n\" %thisClass)\n",
    "#     data = engine.execute(f\"SELECT * FROM {thisClass} LIMIT 5\").fetchall()\n",
    "#     print(data)"
   ]
  },
  {
   "cell_type": "markdown",
   "metadata": {},
   "source": [
    "# Exploratory Climate Analysis"
   ]
  },
  {
   "cell_type": "code",
   "execution_count": 12,
   "metadata": {},
   "outputs": [
    {
     "name": "stdout",
     "output_type": "stream",
     "text": [
      "Date 1 year ago from the Last Date 2017-08-23 in the DB: 2016-08-23\n",
      "SELECT measurement.date, measurement.prcp \n",
      "FROM measurement \n",
      "WHERE measurement.date >= :date_1 AND measurement.date <= :date_2\n"
     ]
    },
    {
     "data": {
      "image/png": "[encoded data removed]",
      "text/plain": [
       "<Figure size 720x504 with 1 Axes>"
      ]
     },
     "metadata": {
      "needs_background": "light"
     },
     "output_type": "display_data"
    }
   ],
   "source": [
    "# Design a query to retrieve the last 12 months of precipitation data and plot the results\n",
    "\n",
    "# Calculate the date 1 year ago from the last data point in the database\n",
    "lastDate = session.query(Measurement.date).order_by(Measurement.date.desc()).first()\n",
    "lastDateDT = dt.datetime.strptime(lastDate[0], '%Y-%m-%d').date()\n",
    "date12Delta = lastDateDT - dt.timedelta(days=365)\n",
    "print(\"Date 1 year ago from the Last Date %s in the DB: %s\" %(lastDateDT, str(date12Delta)))\n",
    "\n",
    "# Perform a query to retrieve the data and precipitation scores\n",
    "q = session.query(Measurement.date, Measurement.prcp).\\\n",
    "filter(Measurement.date >= date12Delta).filter(Measurement.date <= lastDateDT)\n",
    "print(q.statement)\n",
    "\n",
    "# Save the query results as a Pandas DataFrame and set the index to the date column\n",
    "df = pd.read_sql(q.statement, engine.connect())\n",
    "date_indx_df = df.set_index('date')\n",
    "\n",
    "# Sort the dataframe by date\n",
    "date_indx_df = date_indx_df.sort_values(by='date', axis=0)\n",
    "date_indx_df = date_indx_df.dropna(how='any')\n",
    "\n",
    "# Use Pandas Plotting with Matplotlib to plot the data\n",
    "date_indx_df.plot(figsize=(10,7))\n",
    "plt.legend(['Precipitation'], loc='upper center')\n",
    "plt.show()"
   ]
  },
  {
   "cell_type": "code",
   "execution_count": 13,
   "metadata": {},
   "outputs": [
    {
     "data": {
      "text/html": [
       "<div>\n",
       "<style scoped>\n",
       "    .dataframe tbody tr th:only-of-type {\n",
       "        vertical-align: middle;\n",
       "    }\n",
       "\n",
       "    .dataframe tbody tr th {\n",
       "        vertical-align: top;\n",
       "    }\n",
       "\n",
       "    .dataframe thead th {\n",
       "        text-align: right;\n",
       "    }\n",
       "</style>\n",
       "<table border=\"1\" class=\"dataframe\">\n",
       "  <thead>\n",
       "    <tr style=\"text-align: right;\">\n",
       "      <th></th>\n",
       "      <th>prcp</th>\n",
       "    </tr>\n",
       "  </thead>\n",
       "  <tbody>\n",
       "    <tr>\n",
       "      <th>count</th>\n",
       "      <td>2021.000000</td>\n",
       "    </tr>\n",
       "    <tr>\n",
       "      <th>mean</th>\n",
       "      <td>0.177279</td>\n",
       "    </tr>\n",
       "    <tr>\n",
       "      <th>std</th>\n",
       "      <td>0.461190</td>\n",
       "    </tr>\n",
       "    <tr>\n",
       "      <th>min</th>\n",
       "      <td>0.000000</td>\n",
       "    </tr>\n",
       "    <tr>\n",
       "      <th>25%</th>\n",
       "      <td>0.000000</td>\n",
       "    </tr>\n",
       "    <tr>\n",
       "      <th>50%</th>\n",
       "      <td>0.020000</td>\n",
       "    </tr>\n",
       "    <tr>\n",
       "      <th>75%</th>\n",
       "      <td>0.130000</td>\n",
       "    </tr>\n",
       "    <tr>\n",
       "      <th>max</th>\n",
       "      <td>6.700000</td>\n",
       "    </tr>\n",
       "  </tbody>\n",
       "</table>\n",
       "</div>"
      ],
      "text/plain": [
       "              prcp\n",
       "count  2021.000000\n",
       "mean      0.177279\n",
       "std       0.461190\n",
       "min       0.000000\n",
       "25%       0.000000\n",
       "50%       0.020000\n",
       "75%       0.130000\n",
       "max       6.700000"
      ]
     },
     "execution_count": 13,
     "metadata": {},
     "output_type": "execute_result"
    }
   ],
   "source": [
    "# Use Pandas to calcualte the summary statistics for the precipitation data\n",
    "date_indx_df.describe()"
   ]
  },
  {
   "cell_type": "code",
   "execution_count": 14,
   "metadata": {},
   "outputs": [],
   "source": [
    "# q = session.query(Measurement.date, Measurement.prcp)\n",
    "# print(q) - SELECT measurement.date AS measurement_date, measurement.prcp AS measurement_prcp FROM measurement\n",
    "\n",
    "# q = session.query(Measurement.date, Measurement.prcp)[0]\n",
    "# print(q) - ('2010-01-01', 0.08)"
   ]
  },
  {
   "cell_type": "code",
   "execution_count": 15,
   "metadata": {},
   "outputs": [
    {
     "data": {
      "text/plain": [
       "[(9)]"
      ]
     },
     "execution_count": 15,
     "metadata": {},
     "output_type": "execute_result"
    }
   ],
   "source": [
    "# Design a query to show how many stations are available in this dataset?\n",
    "no_of_stations = session.query(func.count(Station.station)).all()\n",
    "no_of_stations"
   ]
  },
  {
   "cell_type": "code",
   "execution_count": 16,
   "metadata": {},
   "outputs": [
    {
     "name": "stdout",
     "output_type": "stream",
     "text": [
      "The Stations and the counts in descending order:\n"
     ]
    },
    {
     "data": {
      "text/plain": [
       "[('USC00519281', 2772),\n",
       " ('USC00519397', 2724),\n",
       " ('USC00513117', 2709),\n",
       " ('USC00519523', 2669),\n",
       " ('USC00516128', 2612),\n",
       " ('USC00514830', 2202),\n",
       " ('USC00511918', 1979),\n",
       " ('USC00517948', 1372),\n",
       " ('USC00518838', 511)]"
      ]
     },
     "execution_count": 16,
     "metadata": {},
     "output_type": "execute_result"
    }
   ],
   "source": [
    "# What are the most active stations? (i.e. what stations have the most rows)?\n",
    "# List the stations and the counts in descending order.\n",
    "\n",
    "query_active_stations = session.query(Measurement.station, func.count(Measurement.id).label('Count')).\\\n",
    "group_by(Measurement.station).order_by(func.count(Measurement.id).desc()).all()\n",
    "\n",
    "print(f\"The Stations and the counts in descending order:\")\n",
    "query_active_stations"
   ]
  },
  {
   "cell_type": "code",
   "execution_count": 17,
   "metadata": {},
   "outputs": [
    {
     "name": "stdout",
     "output_type": "stream",
     "text": [
      "The Stations and the counts in descending order:\n"
     ]
    },
    {
     "data": {
      "text/plain": [
       "[('USC00511918', 1),\n",
       " ('USC00513117', 1),\n",
       " ('USC00514830', 1),\n",
       " ('USC00516128', 1),\n",
       " ('USC00517948', 1),\n",
       " ('USC00518838', 1),\n",
       " ('USC00519281', 1),\n",
       " ('USC00519397', 1),\n",
       " ('USC00519523', 1)]"
      ]
     },
     "execution_count": 17,
     "metadata": {},
     "output_type": "execute_result"
    }
   ],
   "source": [
    "query_active_stations2 = session.query(Station.station, func.count(Station.id).label('Count')).\\\n",
    "group_by(Station.station).order_by(func.count(Station.id).desc()).all()\n",
    "\n",
    "print(f\"The Stations and the counts in descending order:\")\n",
    "query_active_stations2"
   ]
  },
  {
   "cell_type": "code",
   "execution_count": 18,
   "metadata": {},
   "outputs": [
    {
     "data": {
      "text/plain": [
       "[('USC00519281', 85.0, 54.0, 71.66378066378067)]"
      ]
     },
     "execution_count": 18,
     "metadata": {},
     "output_type": "execute_result"
    }
   ],
   "source": [
    "# Using the station id from the previous query, calculate the lowest temperature recorded, \n",
    "# highest temperature recorded, and average temperature most active station?\n",
    "query_temp_max = session.query(Measurement.station, func.max(Measurement.tobs), func.min(Measurement.tobs), \\\n",
    "                              func.avg(Measurement.tobs)).filter(Measurement.station == 'USC00519281').all()\n",
    "query_temp_max"
   ]
  },
  {
   "cell_type": "code",
   "execution_count": 19,
   "metadata": {},
   "outputs": [
    {
     "data": {
      "image/png": "[encoded data removed]",
      "text/plain": [
       "<Figure size 864x576 with 1 Axes>"
      ]
     },
     "metadata": {
      "needs_background": "light"
     },
     "output_type": "display_data"
    }
   ],
   "source": [
    "# Choose the station with the highest number of temperature observations.\n",
    "# Query the last 12 months of temperature observation data for this station and plot the results as a histogram\n",
    "stationHT = 'USC00519281'\n",
    "lastDateStatHTQ = session.query(Measurement.date).filter(Measurement.station == stationHT).\\\n",
    "order_by(Measurement.date.desc()).first()\n",
    "lastDateStatHTQ = dt.datetime.strptime(lastDateStatHTQ[0], \"%Y-%m-%d\").date()\n",
    "firstDateStatHTQ = lastDateStatHTQ - dt.timedelta(days=365)\n",
    "\n",
    "tempObsQ = session.query(Measurement.date, Measurement.tobs).filter(Measurement.date > firstDateStatHTQ).\\\n",
    "filter(Measurement.station == stationHT)\n",
    "\n",
    "tempObsDF = pd.read_sql(tempObsQ.statement, engine.connect())\n",
    "plt.figure(figsize=(12, 8))\n",
    "plt.hist(tempObsDF['tobs'],12)\n",
    "plt.xlabel('Temperature')\n",
    "plt.ylabel('Frequency')\n",
    "plt.title(f'12 months of temperature observation for station {stationHT} from {firstDateStatHTQ} \\\n",
    "through {lastDateStatHTQ}')\n",
    "plt.legend(['tobs'], loc='best')\n",
    "plt.show()"
   ]
  },
  {
   "cell_type": "code",
   "execution_count": 20,
   "metadata": {},
   "outputs": [
    {
     "name": "stdout",
     "output_type": "stream",
     "text": [
      "[(62.0, 69.57142857142857, 74.0)]\n"
     ]
    }
   ],
   "source": [
    "# This function called `calc_temps` will accept start date and end date in the format '%Y-%m-%d' \n",
    "# and return the minimum, average, and maximum temperatures for that range of dates\n",
    "def calc_temps(start_date, end_date):\n",
    "    \"\"\"TMIN, TAVG, and TMAX for a list of dates.\n",
    "    \n",
    "    Args:\n",
    "        start_date (string): A date string in the format %Y-%m-%d\n",
    "        end_date (string): A date string in the format %Y-%m-%d\n",
    "        \n",
    "    Returns:\n",
    "        TMIN, TAVE, and TMAX\n",
    "    \"\"\"\n",
    "    \n",
    "    return session.query(func.min(Measurement.tobs), func.avg(Measurement.tobs), func.max(Measurement.tobs)).\\\n",
    "        filter(Measurement.date >= start_date).filter(Measurement.date <= end_date).all()\n",
    "\n",
    "# function usage example\n",
    "print(calc_temps('2012-02-28', '2012-03-05'))"
   ]
  },
  {
   "cell_type": "code",
   "execution_count": 21,
   "metadata": {},
   "outputs": [
    {
     "data": {
      "text/plain": [
       "[(68.0, 73.01960784313725, 78.0)]"
      ]
     },
     "execution_count": 21,
     "metadata": {},
     "output_type": "execute_result"
    }
   ],
   "source": [
    "# Use your previous function `calc_temps` to calculate the tmin, tavg, and tmax \n",
    "# for your trip using the previous year's data for those same dates.\n",
    "\n",
    "tripAvgTemp = calc_temps('2016-12-20', '2016-12-27')\n",
    "#tripAvgTemp = calc_temps(firstDateStatHTQ, lastDateStatHTQ)\n",
    "tripAvgTemp"
   ]
  },
  {
   "cell_type": "code",
   "execution_count": 22,
   "metadata": {},
   "outputs": [
    {
     "data": {
      "image/png": "[encoded data removed]",
      "text/plain": [
       "<Figure size 360x720 with 1 Axes>"
      ]
     },
     "metadata": {
      "needs_background": "light"
     },
     "output_type": "display_data"
    }
   ],
   "source": [
    "# Plot the results from your previous query as a bar chart. \n",
    "# Use \"Trip Avg Temp\" as your Title\n",
    "# Use the average temperature for the y value\n",
    "# Use the peak-to-peak (tmax-tmin) value as the y error bar (yerr)\n",
    "\n",
    "tmax = tripAvgTemp[0][2]\n",
    "tmin = tripAvgTemp[0][0]\n",
    "tavg = tripAvgTemp[0][1]\n",
    "\n",
    "plt.figure(figsize=(5,10))\n",
    "plt.bar(2, tavg, yerr=tmax - tmin, width=2.5, align='center', tick_label=\"\", color='#FBCEB1')\n",
    "plt.xlim(0,4)\n",
    "plt.tight_layout()\n",
    "plt.show()"
   ]
  },
  {
   "cell_type": "code",
   "execution_count": 23,
   "metadata": {},
   "outputs": [
    {
     "data": {
      "text/html": [
       "<div>\n",
       "<style scoped>\n",
       "    .dataframe tbody tr th:only-of-type {\n",
       "        vertical-align: middle;\n",
       "    }\n",
       "\n",
       "    .dataframe tbody tr th {\n",
       "        vertical-align: top;\n",
       "    }\n",
       "\n",
       "    .dataframe thead th {\n",
       "        text-align: right;\n",
       "    }\n",
       "</style>\n",
       "<table border=\"1\" class=\"dataframe\">\n",
       "  <thead>\n",
       "    <tr style=\"text-align: right;\">\n",
       "      <th></th>\n",
       "      <th>station</th>\n",
       "      <th>Precipitation</th>\n",
       "      <th>name</th>\n",
       "      <th>latitude</th>\n",
       "      <th>longitude</th>\n",
       "      <th>elevation</th>\n",
       "    </tr>\n",
       "  </thead>\n",
       "  <tbody>\n",
       "    <tr>\n",
       "      <th>0</th>\n",
       "      <td>USC00516128</td>\n",
       "      <td>0.712500</td>\n",
       "      <td>MANOA LYON ARBO 785.2, HI US</td>\n",
       "      <td>21.33310</td>\n",
       "      <td>-157.80250</td>\n",
       "      <td>152.4</td>\n",
       "    </tr>\n",
       "    <tr>\n",
       "      <th>1</th>\n",
       "      <td>USC00519281</td>\n",
       "      <td>0.212500</td>\n",
       "      <td>WAIHEE 837.5, HI US</td>\n",
       "      <td>21.45167</td>\n",
       "      <td>-157.84889</td>\n",
       "      <td>32.9</td>\n",
       "    </tr>\n",
       "    <tr>\n",
       "      <th>2</th>\n",
       "      <td>USC00513117</td>\n",
       "      <td>0.097500</td>\n",
       "      <td>KANEOHE 838.1, HI US</td>\n",
       "      <td>21.42340</td>\n",
       "      <td>-157.80150</td>\n",
       "      <td>14.6</td>\n",
       "    </tr>\n",
       "    <tr>\n",
       "      <th>3</th>\n",
       "      <td>USC00517948</td>\n",
       "      <td>0.060000</td>\n",
       "      <td>PEARL CITY, HI US</td>\n",
       "      <td>21.39340</td>\n",
       "      <td>-157.97510</td>\n",
       "      <td>11.9</td>\n",
       "    </tr>\n",
       "    <tr>\n",
       "      <th>4</th>\n",
       "      <td>USC00514830</td>\n",
       "      <td>0.053333</td>\n",
       "      <td>KUALOA RANCH HEADQUARTERS 886.9, HI US</td>\n",
       "      <td>21.52130</td>\n",
       "      <td>-157.83740</td>\n",
       "      <td>7.0</td>\n",
       "    </tr>\n",
       "    <tr>\n",
       "      <th>5</th>\n",
       "      <td>USC00519523</td>\n",
       "      <td>0.043750</td>\n",
       "      <td>WAIMANALO EXPERIMENTAL FARM, HI US</td>\n",
       "      <td>21.33556</td>\n",
       "      <td>-157.71139</td>\n",
       "      <td>19.5</td>\n",
       "    </tr>\n",
       "    <tr>\n",
       "      <th>6</th>\n",
       "      <td>USC00519397</td>\n",
       "      <td>0.006250</td>\n",
       "      <td>WAIKIKI 717.2, HI US</td>\n",
       "      <td>21.27160</td>\n",
       "      <td>-157.81680</td>\n",
       "      <td>3.0</td>\n",
       "    </tr>\n",
       "  </tbody>\n",
       "</table>\n",
       "</div>"
      ],
      "text/plain": [
       "       station  Precipitation                                    name  \\\n",
       "0  USC00516128       0.712500            MANOA LYON ARBO 785.2, HI US   \n",
       "1  USC00519281       0.212500                     WAIHEE 837.5, HI US   \n",
       "2  USC00513117       0.097500                    KANEOHE 838.1, HI US   \n",
       "3  USC00517948       0.060000                       PEARL CITY, HI US   \n",
       "4  USC00514830       0.053333  KUALOA RANCH HEADQUARTERS 886.9, HI US   \n",
       "5  USC00519523       0.043750      WAIMANALO EXPERIMENTAL FARM, HI US   \n",
       "6  USC00519397       0.006250                    WAIKIKI 717.2, HI US   \n",
       "\n",
       "   latitude  longitude  elevation  \n",
       "0  21.33310 -157.80250      152.4  \n",
       "1  21.45167 -157.84889       32.9  \n",
       "2  21.42340 -157.80150       14.6  \n",
       "3  21.39340 -157.97510       11.9  \n",
       "4  21.52130 -157.83740        7.0  \n",
       "5  21.33556 -157.71139       19.5  \n",
       "6  21.27160 -157.81680        3.0  "
      ]
     },
     "execution_count": 23,
     "metadata": {},
     "output_type": "execute_result"
    }
   ],
   "source": [
    "# Calculate the rainfall per weather station for your trip dates using the previous year's matching dates.\n",
    "# Sort this in descending order by precipitation amount and list the station, name, latitude, longitude, and elevation\n",
    "#filter(Measurement.date >= firstDateStatHTQ).filter(Measurement.date <= lastDateStatHTQ).\\\n",
    "\n",
    "rainfallQ = session.query(Measurement.station, func.avg(Measurement.prcp).label('Precipitation'), Station.name, Station.latitude, Station.longitude, \\\n",
    "                         Station.elevation).filter(Measurement.station == Station.station).\\\n",
    "                         filter(Measurement.date >= '2016-12-20').filter(Measurement.date <= '2016-12-27').\\\n",
    "                         group_by(Measurement.station, Station.name, Station.latitude, Station.longitude, \\\n",
    "                                  Station.elevation).order_by(func.avg(Measurement.prcp).desc())\n",
    "\n",
    "rainfallDF = pd.read_sql(rainfallQ.statement, engine.connect())\n",
    "rainfallDF"
   ]
  },
  {
   "cell_type": "markdown",
   "metadata": {},
   "source": [
    "## Optional Challenge Assignment"
   ]
  },
  {
   "cell_type": "code",
   "execution_count": 24,
   "metadata": {},
   "outputs": [
    {
     "data": {
      "text/plain": [
       "[(62.0, 69.15384615384616, 77.0)]"
      ]
     },
     "execution_count": 24,
     "metadata": {},
     "output_type": "execute_result"
    }
   ],
   "source": [
    "# Create a query that will calculate the daily normals \n",
    "# (i.e. the averages for tmin, tmax, and tavg for all historic data matching a specific month and day)\n",
    "\n",
    "def daily_normals(date):\n",
    "    \"\"\"Daily Normals.\n",
    "    \n",
    "    Args:\n",
    "        date (str): A date string in the format '%m-%d'\n",
    "        \n",
    "    Returns:\n",
    "        A list of tuples containing the daily normals, tmin, tavg, and tmax\n",
    "    \n",
    "    \"\"\"\n",
    "    \n",
    "    sel = [func.min(Measurement.tobs), func.avg(Measurement.tobs), func.max(Measurement.tobs)]\n",
    "    return session.query(*sel).filter(func.strftime(\"%m-%d\", Measurement.date) == date).all()\n",
    "    \n",
    "daily_normals(\"01-01\")"
   ]
  },
  {
   "cell_type": "code",
   "execution_count": 25,
   "metadata": {},
   "outputs": [
    {
     "name": "stdout",
     "output_type": "stream",
     "text": [
      "DatetimeIndex(['2016-12-20', '2016-12-21', '2016-12-22', '2016-12-23',\n",
      "               '2016-12-24', '2016-12-25', '2016-12-26', '2016-12-27'],\n",
      "              dtype='datetime64[ns]', freq='D')\n"
     ]
    },
    {
     "data": {
      "text/plain": [
       "[[(65.0, 72.91304347826087, 81.0)],\n",
       " [(67.0, 72.13953488372093, 78.0)],\n",
       " [(67.0, 71.1304347826087, 77.0)],\n",
       " [(61.0, 70.34693877551021, 78.0)],\n",
       " [(62.0, 70.0625, 78.0)],\n",
       " [(60.0, 71.75, 79.0)],\n",
       " [(63.0, 71.44680851063829, 77.0)],\n",
       " [(62.0, 71.91666666666667, 79.0)]]"
      ]
     },
     "execution_count": 25,
     "metadata": {},
     "output_type": "execute_result"
    }
   ],
   "source": [
    "# calculate the daily normals for your trip\n",
    "# push each tuple of calculations into a list called `normals`\n",
    "\n",
    "# Set the start and end date of the trip\n",
    "tripStart = dt.datetime(2016,12,20)\n",
    "tripFinish = dt.datetime(2016,12,27)\n",
    "\n",
    "# Use the start and end date to create a range of dates\n",
    "dateIndex = pd.date_range(tripStart, tripFinish)\n",
    "print(dateIndex)\n",
    "# Stip off the year and save a list of %m-%d strings\n",
    "normalDTList = [dt.datetime.strftime(x.date(), \"%m-%d\") for x in dateIndex]\n",
    "\n",
    "# Loop through the list of %m-%d strings and calculate the normals for each date\n",
    "dailyNormals = [daily_normals(x) for x in normalDTList]\n",
    "dailyNormals"
   ]
  },
  {
   "cell_type": "code",
   "execution_count": 26,
   "metadata": {},
   "outputs": [
    {
     "data": {
      "text/html": [
       "<div>\n",
       "<style scoped>\n",
       "    .dataframe tbody tr th:only-of-type {\n",
       "        vertical-align: middle;\n",
       "    }\n",
       "\n",
       "    .dataframe tbody tr th {\n",
       "        vertical-align: top;\n",
       "    }\n",
       "\n",
       "    .dataframe thead th {\n",
       "        text-align: right;\n",
       "    }\n",
       "</style>\n",
       "<table border=\"1\" class=\"dataframe\">\n",
       "  <thead>\n",
       "    <tr style=\"text-align: right;\">\n",
       "      <th></th>\n",
       "      <th>tmin</th>\n",
       "      <th>tavg</th>\n",
       "      <th>tmax</th>\n",
       "    </tr>\n",
       "  </thead>\n",
       "  <tbody>\n",
       "    <tr>\n",
       "      <th>12-20</th>\n",
       "      <td>65.0</td>\n",
       "      <td>72.913043</td>\n",
       "      <td>81.0</td>\n",
       "    </tr>\n",
       "    <tr>\n",
       "      <th>12-21</th>\n",
       "      <td>67.0</td>\n",
       "      <td>72.139535</td>\n",
       "      <td>78.0</td>\n",
       "    </tr>\n",
       "    <tr>\n",
       "      <th>12-22</th>\n",
       "      <td>67.0</td>\n",
       "      <td>71.130435</td>\n",
       "      <td>77.0</td>\n",
       "    </tr>\n",
       "    <tr>\n",
       "      <th>12-23</th>\n",
       "      <td>61.0</td>\n",
       "      <td>70.346939</td>\n",
       "      <td>78.0</td>\n",
       "    </tr>\n",
       "    <tr>\n",
       "      <th>12-24</th>\n",
       "      <td>62.0</td>\n",
       "      <td>70.062500</td>\n",
       "      <td>78.0</td>\n",
       "    </tr>\n",
       "    <tr>\n",
       "      <th>12-25</th>\n",
       "      <td>60.0</td>\n",
       "      <td>71.750000</td>\n",
       "      <td>79.0</td>\n",
       "    </tr>\n",
       "    <tr>\n",
       "      <th>12-26</th>\n",
       "      <td>63.0</td>\n",
       "      <td>71.446809</td>\n",
       "      <td>77.0</td>\n",
       "    </tr>\n",
       "    <tr>\n",
       "      <th>12-27</th>\n",
       "      <td>62.0</td>\n",
       "      <td>71.916667</td>\n",
       "      <td>79.0</td>\n",
       "    </tr>\n",
       "  </tbody>\n",
       "</table>\n",
       "</div>"
      ],
      "text/plain": [
       "       tmin       tavg  tmax\n",
       "12-20  65.0  72.913043  81.0\n",
       "12-21  67.0  72.139535  78.0\n",
       "12-22  67.0  71.130435  77.0\n",
       "12-23  61.0  70.346939  78.0\n",
       "12-24  62.0  70.062500  78.0\n",
       "12-25  60.0  71.750000  79.0\n",
       "12-26  63.0  71.446809  77.0\n",
       "12-27  62.0  71.916667  79.0"
      ]
     },
     "execution_count": 26,
     "metadata": {},
     "output_type": "execute_result"
    }
   ],
   "source": [
    "# Load the previous query results into a Pandas DataFrame and add the `trip_dates` range as the `date` index\n",
    "tMinSeries = []\n",
    "tMaxSeries = []\n",
    "tAvgSeries = []\n",
    "\n",
    "for dn in dailyNormals:\n",
    "    tMinSeries.append(dn[0][0])\n",
    "    tAvgSeries.append(dn[0][1])\n",
    "    tMaxSeries.append(dn[0][2])\n",
    "    \n",
    "normalDF = pd.DataFrame({\n",
    "    \"tmin\" : tMinSeries,\n",
    "    \"tavg\" : tAvgSeries,\n",
    "    \"tmax\" : tMaxSeries\n",
    "}, index=normalDTList)\n",
    "\n",
    "normalDF"
   ]
  },
  {
   "cell_type": "code",
   "execution_count": 27,
   "metadata": {},
   "outputs": [
    {
     "data": {
      "image/png": "[encoded data removed]",
      "text/plain": [
       "<Figure size 720x504 with 1 Axes>"
      ]
     },
     "metadata": {
      "needs_background": "light"
     },
     "output_type": "display_data"
    }
   ],
   "source": [
    "# Plot the daily normals as an area plot with `stacked=False`\n",
    "normalDF.plot.area(stacked=False, alpha=0.2, figsize=(10,7))\n",
    "x_axis = np.arange(len(dateIndex))\n",
    "tick_locations = [value for value in x_axis]\n",
    "plt.xticks(tick_locations, [x.date() for x in dateIndex], rotation='90')\n",
    "plt.show()"
   ]
  },
  {
   "cell_type": "code",
   "execution_count": null,
   "metadata": {},
   "outputs": [],
   "source": []
  }
 ],
 "metadata": {
  "kernel_info": {
   "name": "python3"
  },
  "kernelspec": {
   "display_name": "ut_data",
   "language": "python",
   "name": "ut_data"
  },
  "language_info": {
   "codemirror_mode": {
    "name": "ipython",
    "version": 3
   },
   "file_extension": ".py",
   "mimetype": "text/x-python",
   "name": "python",
   "nbconvert_exporter": "python",
   "pygments_lexer": "ipython3",
   "version": "3.7.2"
  },
  "nteract": {
   "version": "0.9.1"
  },
  "varInspector": {
   "cols": {
    "lenName": 16,
    "lenType": 16,
    "lenVar": 40
   },
   "kernels_config": {
    "python": {
     "delete_cmd_postfix": "",
     "delete_cmd_prefix": "del ",
     "library": "var_list.py",
     "varRefreshCmd": "print(var_dic_list())"
    },
    "r": {
     "delete_cmd_postfix": ") ",
     "delete_cmd_prefix": "rm(",
     "library": "var_list.r",
     "varRefreshCmd": "cat(var_dic_list()) "
    }
   },
   "types_to_exclude": [
    "module",
    "function",
    "builtin_function_or_method",
    "instance",
    "_Feature"
   ],
   "window_display": false
  }
 },
 "nbformat": 4,
 "nbformat_minor": 2
}
