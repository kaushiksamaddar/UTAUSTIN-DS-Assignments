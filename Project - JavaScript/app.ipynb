{
 "cells": [
  {
   "cell_type": "code",
   "execution_count": 1,
   "metadata": {},
   "outputs": [],
   "source": [
    "import pandas as pd\n",
    "import os\n",
    "import sqlalchemy\n",
    "from sqlalchemy import create_engine, MetaData, Column, Integer, String, Float"
   ]
  },
  {
   "cell_type": "code",
   "execution_count": 2,
   "metadata": {},
   "outputs": [],
   "source": [
    "# load data into pandas dataframes\n",
    "movies_file = os.path.join(\"data\", \"IMDBMOVIES.csv\")"
   ]
  },
  {
   "cell_type": "code",
   "execution_count": 3,
   "metadata": {},
   "outputs": [
    {
     "data": {
      "text/plain": [
       "'data/IMDBMOVIES.csv'"
      ]
     },
     "execution_count": 3,
     "metadata": {},
     "output_type": "execute_result"
    }
   ],
   "source": [
    "movies_file"
   ]
  },
  {
   "cell_type": "code",
   "execution_count": 4,
   "metadata": {},
   "outputs": [
    {
     "data": {
      "text/html": [
       "<div>\n",
       "<style scoped>\n",
       "    .dataframe tbody tr th:only-of-type {\n",
       "        vertical-align: middle;\n",
       "    }\n",
       "\n",
       "    .dataframe tbody tr th {\n",
       "        vertical-align: top;\n",
       "    }\n",
       "\n",
       "    .dataframe thead th {\n",
       "        text-align: right;\n",
       "    }\n",
       "</style>\n",
       "<table border=\"1\" class=\"dataframe\">\n",
       "  <thead>\n",
       "    <tr style=\"text-align: right;\">\n",
       "      <th></th>\n",
       "      <th>Title</th>\n",
       "      <th>Rated</th>\n",
       "      <th>Released</th>\n",
       "      <th>Runtime</th>\n",
       "      <th>Genre</th>\n",
       "      <th>Director</th>\n",
       "      <th>Writer</th>\n",
       "      <th>Actors</th>\n",
       "      <th>Plot</th>\n",
       "      <th>Language</th>\n",
       "      <th>Country</th>\n",
       "      <th>Awards</th>\n",
       "      <th>Ratings</th>\n",
       "      <th>Metascore</th>\n",
       "      <th>imdbRating</th>\n",
       "      <th>imdbVotes</th>\n",
       "      <th>imdbID</th>\n",
       "      <th>BoxOffice</th>\n",
       "      <th>Production</th>\n",
       "      <th>Website</th>\n",
       "    </tr>\n",
       "  </thead>\n",
       "  <tbody>\n",
       "    <tr>\n",
       "      <th>0</th>\n",
       "      <td>The Shawshank Redemption</td>\n",
       "      <td>R</td>\n",
       "      <td>14-Oct-94</td>\n",
       "      <td>142 min</td>\n",
       "      <td>Crime, Drama</td>\n",
       "      <td>Frank Darabont</td>\n",
       "      <td>Stephen King (short story \"Rita Hayworth and S...</td>\n",
       "      <td>Tim Robbins, Morgan Freeman, Bob Gunton, Willi...</td>\n",
       "      <td>Two imprisoned men bond over a number of years...</td>\n",
       "      <td>English</td>\n",
       "      <td>USA</td>\n",
       "      <td>Nominated for 7 Oscars. Another 19 wins &amp; 30 n...</td>\n",
       "      <td>9.3/10</td>\n",
       "      <td>80</td>\n",
       "      <td>9.3</td>\n",
       "      <td>1,825,626</td>\n",
       "      <td>0</td>\n",
       "      <td>0</td>\n",
       "      <td>Columbia Pictures</td>\n",
       "      <td>NaN</td>\n",
       "    </tr>\n",
       "  </tbody>\n",
       "</table>\n",
       "</div>"
      ],
      "text/plain": [
       "                      Title Rated   Released  Runtime         Genre  \\\n",
       "0  The Shawshank Redemption     R  14-Oct-94  142 min  Crime, Drama   \n",
       "\n",
       "         Director                                             Writer  \\\n",
       "0  Frank Darabont  Stephen King (short story \"Rita Hayworth and S...   \n",
       "\n",
       "                                              Actors  \\\n",
       "0  Tim Robbins, Morgan Freeman, Bob Gunton, Willi...   \n",
       "\n",
       "                                                Plot Language Country  \\\n",
       "0  Two imprisoned men bond over a number of years...  English     USA   \n",
       "\n",
       "                                              Awards Ratings  Metascore  \\\n",
       "0  Nominated for 7 Oscars. Another 19 wins & 30 n...  9.3/10         80   \n",
       "\n",
       "   imdbRating  imdbVotes  imdbID BoxOffice         Production Website  \n",
       "0         9.3  1,825,626       0         0  Columbia Pictures     NaN  "
      ]
     },
     "execution_count": 4,
     "metadata": {},
     "output_type": "execute_result"
    }
   ],
   "source": [
    "movies_data = pd.read_csv(movies_file)\n",
    "movies_data.head(1)"
   ]
  },
  {
   "cell_type": "code",
   "execution_count": 5,
   "metadata": {},
   "outputs": [],
   "source": [
    "connection_string = \"sqlite:///db/movies.sqlite\"\n",
    "engine = create_engine(connection_string)\n",
    "conn = engine.connect()"
   ]
  },
  {
   "cell_type": "code",
   "execution_count": 6,
   "metadata": {},
   "outputs": [],
   "source": [
    "from sqlalchemy.ext.declarative import declarative_base\n",
    "Base = declarative_base()"
   ]
  },
  {
   "cell_type": "code",
   "execution_count": 7,
   "metadata": {},
   "outputs": [],
   "source": [
    "class Imdbmovies(Base):\n",
    "    __tablename__ = 'imdbmovies'\n",
    "\n",
    "    imdbID = Column(Integer, primary_key = True)\n",
    "    imdbRating = Column(Float)\n",
    "    imdbVotes = Column(String(64))\n",
    "    Title = Column(String(64))\n",
    "    Rated = Column(String(64))\n",
    "    Released = Column(String(64))\n",
    "    Runtime = Column(String(64))\n",
    "    Genre = Column(String(64))\n",
    "    Director = Column(String(64))\n",
    "    Writer = Column(String(64))\n",
    "    Actors = Column(String(64))\n",
    "    Plot = Column(String(64))\n",
    "    Language = Column(String(64))\n",
    "    Country = Column(String(64))\n",
    "    Awards = Column(String(64))\n",
    "    Ratings = Column(String(64))\n",
    "    Metascore = Column(Integer)\n",
    "    Boxoffice = Column(String(64))\n",
    "    Production = Column(String(64))\n",
    "    Website = Column(String(64))\n",
    "    \n",
    "    def __repr__(self):\n",
    "        return f\"title={self.imdbRating}\""
   ]
  },
  {
   "cell_type": "code",
   "execution_count": 8,
   "metadata": {},
   "outputs": [],
   "source": [
    "Base.metadata.create_all(engine)"
   ]
  },
  {
   "cell_type": "code",
   "execution_count": 9,
   "metadata": {},
   "outputs": [],
   "source": [
    "# write data to tables\n",
    "movies_data_to_write = movies_data.to_dict(orient='records')\n",
    "metadata = MetaData(bind=engine)\n",
    "metadata.reflect()\n"
   ]
  },
  {
   "cell_type": "code",
   "execution_count": 11,
   "metadata": {},
   "outputs": [
    {
     "data": {
      "text/plain": [
       "<sqlalchemy.engine.result.ResultProxy at 0x11e9ad9b0>"
      ]
     },
     "execution_count": 11,
     "metadata": {},
     "output_type": "execute_result"
    }
   ],
   "source": [
    "movies_table = sqlalchemy.Table('imdbmovies', metadata, autoload=True)\n",
    "conn.execute(movies_table.insert(), movies_data_to_write)"
   ]
  },
  {
   "cell_type": "code",
   "execution_count": 14,
   "metadata": {},
   "outputs": [
    {
     "name": "stdout",
     "output_type": "stream",
     "text": [
      "First 5 rows of imdbmovies table:\n",
      "[(0, 9.3, '1,825,626', 'The Shawshank Redemption', 'R', '14-Oct-94', '142 min', 'Crime, Drama', 'Frank Darabont', 'Stephen King (short story \"Rita Hayworth and Shawshank Redemption\"), Frank Darabont (screenplay)', 'Tim Robbins, Morgan Freeman, Bob Gunton, William Sadler', 'Two imprisoned men bond over a number of years, finding solace and eventual redemption through acts of common decency.', 'English', 'USA', 'Nominated for 7 Oscars. Another 19 wins & 30 nominations.', '9.3/10', 80, None, 'Columbia Pictures', None)]\n"
     ]
    }
   ],
   "source": [
    "movies_head = conn.execute(\"select * from imdbmovies limit 1\").fetchall()\n",
    "print(\"First 5 rows of imdbmovies table:\")\n",
    "print(movies_head)"
   ]
  },
  {
   "cell_type": "code",
   "execution_count": null,
   "metadata": {},
   "outputs": [],
   "source": []
  }
 ],
 "metadata": {
  "kernelspec": {
   "display_name": "ut_data",
   "language": "python",
   "name": "ut_data"
  },
  "language_info": {
   "codemirror_mode": {
    "name": "ipython",
    "version": 3
   },
   "file_extension": ".py",
   "mimetype": "text/x-python",
   "name": "python",
   "nbconvert_exporter": "python",
   "pygments_lexer": "ipython3",
   "version": "3.7.2"
  }
 },
 "nbformat": 4,
 "nbformat_minor": 2
}
