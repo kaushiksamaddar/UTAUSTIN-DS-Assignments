{
 "cells": [
  {
   "cell_type": "code",
   "execution_count": 1,
   "metadata": {},
   "outputs": [],
   "source": [
    "from bs4 import BeautifulSoup\n",
    "from splinter import Browser\n",
    "import pandas as pd\n",
    "import requests\n",
    "import pprint"
   ]
  },
  {
   "cell_type": "code",
   "execution_count": 2,
   "metadata": {},
   "outputs": [],
   "source": [
    "# URL of page to be scraped\n",
    "url = 'https://mars.nasa.gov/news/'"
   ]
  },
  {
   "cell_type": "code",
   "execution_count": 3,
   "metadata": {},
   "outputs": [],
   "source": [
    "# Retrieve page with the requests module\n",
    "response = requests.get(url)"
   ]
  },
  {
   "cell_type": "code",
   "execution_count": 4,
   "metadata": {},
   "outputs": [],
   "source": [
    "#Create BeautifulSoup object; Parse with html parser\n",
    "soup = BeautifulSoup(response.text, 'html.parser')"
   ]
  },
  {
   "cell_type": "code",
   "execution_count": 5,
   "metadata": {},
   "outputs": [],
   "source": [
    "# Examine the results, then determine element that contains sought info\n",
    "resultsTitle = soup.find_all('div', class_='content_title')\n",
    "resultsPara = soup.find_all('div', class_='rollover_description_inner')"
   ]
  },
  {
   "cell_type": "code",
   "execution_count": 6,
   "metadata": {},
   "outputs": [
    {
     "name": "stdout",
     "output_type": "stream",
     "text": [
      "/usr/local/bin/chromedriver\r\n"
     ]
    }
   ],
   "source": [
    "!which chromedriver"
   ]
  },
  {
   "cell_type": "markdown",
   "metadata": {},
   "source": [
    "# JPL Mars Space Images - Featured Image"
   ]
  },
  {
   "cell_type": "code",
   "execution_count": 7,
   "metadata": {},
   "outputs": [],
   "source": [
    "executable_path = {'executable_path':'/usr/local/bin/chromedriver'}\n",
    "browser = Browser('chrome', **executable_path, headless=False)"
   ]
  },
  {
   "cell_type": "code",
   "execution_count": 8,
   "metadata": {},
   "outputs": [],
   "source": [
    "#Use Splinter to visit the Mars Image URL\n",
    "image_url = 'https://www.jpl.nasa.gov/spaceimages/?search=&category=Mars'\n",
    "browser.visit(image_url)"
   ]
  },
  {
   "cell_type": "code",
   "execution_count": 9,
   "metadata": {},
   "outputs": [],
   "source": [
    "xpath = '//*[@id=\"page\"]/section[3]/div/ul/li[29]/a/div/div[2]/img'\n",
    "#Use splinter to click on the mars featured image\n",
    "#to bring the full resolution image\n",
    "results = browser.find_by_xpath(xpath)\n",
    "img = results[0]\n",
    "img.click()"
   ]
  },
  {
   "cell_type": "code",
   "execution_count": 10,
   "metadata": {},
   "outputs": [],
   "source": [
    "base_url = image_url.rsplit('/',2)[0]"
   ]
  },
  {
   "cell_type": "code",
   "execution_count": 12,
   "metadata": {},
   "outputs": [
    {
     "name": "stdout",
     "output_type": "stream",
     "text": [
      "The featured Image URL is : https://www.jpl.nasa.gov/spaceimages/images/largesize/PIA22978_hires.jpg\n"
     ]
    }
   ],
   "source": [
    "#get image url using BeautifulSoup\n",
    "html_image = browser.html\n",
    "soup = BeautifulSoup(html_image, \"html.parser\")\n",
    "img_url = soup.find(\"img\", class_=\"fancybox-image\")['src']\n",
    "featured_image_url = base_url + img_url\n",
    "print(f\"The featured Image URL is : {featured_image_url}\")"
   ]
  },
  {
   "cell_type": "markdown",
   "metadata": {},
   "source": [
    "# Mars Weather"
   ]
  },
  {
   "cell_type": "code",
   "execution_count": 13,
   "metadata": {},
   "outputs": [],
   "source": [
    "#Use Splinter to visit Mars URL.\n",
    "mars_url = 'https://twitter.com/marswxreport?lang=en'\n",
    "browser.visit(mars_url)"
   ]
  },
  {
   "cell_type": "code",
   "execution_count": 14,
   "metadata": {},
   "outputs": [],
   "source": [
    "#Construct a Soap object on the Mars URL\n",
    "html_mars = browser.html\n",
    "soup_mars = BeautifulSoup(html_mars, 'html.parser')"
   ]
  },
  {
   "cell_type": "code",
   "execution_count": 15,
   "metadata": {},
   "outputs": [
    {
     "data": {
      "text/plain": [
       "'Sol 2312 (2019-02-06), high -13C/8F, low -72C/-97F, pressure at 8.13 hPa, daylight 06:47-18:53pic.twitter.com/QpQemcmmJW'"
      ]
     },
     "execution_count": 15,
     "metadata": {},
     "output_type": "execute_result"
    }
   ],
   "source": [
    "#Find the weather tweet\n",
    "weather_tweet = soup_mars.find('p', class_='TweetTextSize TweetTextSize--normal js-tweet-text tweet-text')\n",
    "mars_weather = weather_tweet.text\n",
    "mars_weather"
   ]
  },
  {
   "cell_type": "markdown",
   "metadata": {},
   "source": [
    "# Mars Facts"
   ]
  },
  {
   "cell_type": "code",
   "execution_count": 16,
   "metadata": {},
   "outputs": [
    {
     "name": "stdout",
     "output_type": "stream",
     "text": [
      "<table border=\"1\" class=\"dataframe\">  <thead>    <tr style=\"text-align: right;\">      <th></th>      <th>Facts</th>      <th>Values</th>    </tr>  </thead>  <tbody>    <tr>      <th>0</th>      <td>Equatorial Diameter:</td>      <td>6,792 km</td>    </tr>    <tr>      <th>1</th>      <td>Polar Diameter:</td>      <td>6,752 km</td>    </tr>    <tr>      <th>2</th>      <td>Mass:</td>      <td>6.42 x 10^23 kg (10.7% Earth)</td>    </tr>    <tr>      <th>3</th>      <td>Moons:</td>      <td>2 (Phobos &amp; Deimos)</td>    </tr>    <tr>      <th>4</th>      <td>Orbit Distance:</td>      <td>227,943,824 km (1.52 AU)</td>    </tr>    <tr>      <th>5</th>      <td>Orbit Period:</td>      <td>687 days (1.9 years)</td>    </tr>    <tr>      <th>6</th>      <td>Surface Temperature:</td>      <td>-153 to 20 °C</td>    </tr>    <tr>      <th>7</th>      <td>First Record:</td>      <td>2nd millennium BC</td>    </tr>    <tr>      <th>8</th>      <td>Recorded By:</td>      <td>Egyptian astronomers</td>    </tr>  </tbody></table>\n"
     ]
    }
   ],
   "source": [
    "#Scrape Mars Facts URL\n",
    "mars_facts_url = 'https://space-facts.com/mars/'\n",
    "\n",
    "#Create a Pandas Dataframe on the URL\n",
    "mars_facts_df = pd.read_html(mars_facts_url)\n",
    "mars_facts_df = mars_facts_df[0]\n",
    "\n",
    "#Supplement Facts and Values as 2 columns to hold titles and values.\n",
    "mars_facts_df.columns = ['Facts','Values']\n",
    "\n",
    "#Convert the DataFrame to an HTML table of type String\n",
    "mars_facts_df_table = mars_facts_df.to_html()\n",
    "mars_facts_df_table = mars_facts_df_table.replace('\\n','')\n",
    "print(mars_facts_df_table)"
   ]
  },
  {
   "cell_type": "markdown",
   "metadata": {},
   "source": [
    "# Mars Hemisphere"
   ]
  },
  {
   "cell_type": "code",
   "execution_count": 17,
   "metadata": {},
   "outputs": [
    {
     "name": "stdout",
     "output_type": "stream",
     "text": [
      "The following list displays all the Image titles and the corresponding urls.\n",
      "==========================================================================================================\n",
      "[{'img_url': 'http://astropedia.astrogeology.usgs.gov/download/Mars/Viking/cerberus_enhanced.tif/full.jpg',\n",
      "  'title': 'Cerberus Hemisphere Enhanced'},\n",
      " {'img_url': 'http://astropedia.astrogeology.usgs.gov/download/Mars/Viking/schiaparelli_enhanced.tif/full.jpg',\n",
      "  'title': 'Schiaparelli Hemisphere Enhanced'},\n",
      " {'img_url': 'http://astropedia.astrogeology.usgs.gov/download/Mars/Viking/syrtis_major_enhanced.tif/full.jpg',\n",
      "  'title': 'Syrtis Major Hemisphere Enhanced'},\n",
      " {'img_url': 'http://astropedia.astrogeology.usgs.gov/download/Mars/Viking/valles_marineris_enhanced.tif/full.jpg',\n",
      "  'title': 'Valles Marineris Hemisphere Enhanced'}]\n",
      "hemisphere_image_urls = None \n",
      "==========================================================================================================\n"
     ]
    }
   ],
   "source": [
    "url_hemisphere = \"https://astrogeology.usgs.gov/search/results?q=hemisphere+enhanced&k1=target&v1=Mars\"\n",
    "\n",
    "#Base URL\n",
    "base_url_hemisphere = url_hemisphere.rsplit('/',2)[0]\n",
    "\n",
    "#Request and Receive the Hemisphere Response Page\n",
    "hemisphere_response = requests.get(url_hemisphere)\n",
    "\n",
    "#Create a Beautiful Soap on the response text and parse the html\n",
    "hemisphere_soap = BeautifulSoup(hemisphere_response.text, 'html.parser')\n",
    "\n",
    "#Search for all the Image Items - Tag div and class item\n",
    "imageItems = hemisphere_soap.find_all('div', class_='item')\n",
    "\n",
    "#Construct a Hemisphere List\n",
    "hemisphere_image_urls = []\n",
    "\n",
    "'''\n",
    "Iterate the Image Items to find all the product links and title.\n",
    "Use Splinter to visit every product and scrape for the full Image link.\n",
    "Append the Image Title and Link into a list.\n",
    "'''\n",
    "for imageItem in imageItems:\n",
    "    imageSrc = imageItem.find('a', class_='itemLink product-item')['href']\n",
    "    title = imageItem.find('div', class_='description').text\n",
    "    \n",
    "    browser.visit(base_url_hemisphere + imageSrc)\n",
    "    enhanced_soup = BeautifulSoup(browser.html, 'html.parser')\n",
    "    \n",
    "    downloadTag = enhanced_soup.find('div', class_='downloads')\n",
    "    enhancedImageSrc = downloadTag.find('a')['href']\n",
    "    \n",
    "    hemisphere_image_urls.append({\n",
    "        \"title\":title,\n",
    "        \"img_url\":enhancedImageSrc\n",
    "    })\n",
    "    \n",
    "print(\"The following list displays all the Image titles and the corresponding urls.\")\n",
    "print(\"==========================================================================================================\")\n",
    "print(f\"hemisphere_image_urls = {pprint.pprint(hemisphere_image_urls, indent=1)} \")\n",
    "print(\"==========================================================================================================\")"
   ]
  },
  {
   "cell_type": "code",
   "execution_count": null,
   "metadata": {},
   "outputs": [],
   "source": []
  }
 ],
 "metadata": {
  "kernelspec": {
   "display_name": "ut_data",
   "language": "python",
   "name": "ut_data"
  },
  "language_info": {
   "codemirror_mode": {
    "name": "ipython",
    "version": 3
   },
   "file_extension": ".py",
   "mimetype": "text/x-python",
   "name": "python",
   "nbconvert_exporter": "python",
   "pygments_lexer": "ipython3",
   "version": "3.7.2"
  }
 },
 "nbformat": 4,
 "nbformat_minor": 2
}
