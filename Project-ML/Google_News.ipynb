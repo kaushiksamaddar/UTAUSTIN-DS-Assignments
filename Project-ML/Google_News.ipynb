{
 "cells": [
  {
   "cell_type": "code",
   "execution_count": 1,
   "metadata": {},
   "outputs": [],
   "source": [
    "import json\n",
    "import pandas as pd\n",
    "import requests\n",
    "import pprint\n",
    "from config import api_key"
   ]
  },
  {
   "cell_type": "code",
   "execution_count": 2,
   "metadata": {},
   "outputs": [
    {
     "name": "stdout",
     "output_type": "stream",
     "text": [
      "https://newsapi.org/v2/top-headlines?country=us&apiKey=4cbde2321ad440f9ab04ad5ed65d6e6b\n"
     ]
    }
   ],
   "source": [
    "url_target = \"https://newsapi.org/v2/top-headlines?\"\n",
    "query_url = f\"{url_target}country=us&apiKey={api_key}\"\n",
    "print(query_url)"
   ]
  },
  {
   "cell_type": "code",
   "execution_count": 3,
   "metadata": {},
   "outputs": [
    {
     "name": "stdout",
     "output_type": "stream",
     "text": [
      "No. of Articles: 20\n",
      "\n",
      "Title : The Latest: DHs denies Trump urged 'anything illegal' - ABC News\n",
      "News Source : ABC News\n",
      "Published On : 2019-04-13T10:15:59Z\n",
      "======================================================================\n",
      "Title : Sudan police: 16 killed by stray bullets at protests and sit-ins - Aljazeera.com\n",
      "News Source : Al Jazeera English\n",
      "Published On : 2019-04-13T10:13:00Z\n",
      "======================================================================\n",
      "Title : Mark Zuckerberg's security costs rocket after Facebook's hellish year - INSIDER\n",
      "News Source : Thisisinsider.com\n",
      "Published On : 2019-04-13T08:39:32Z\n",
      "======================================================================\n",
      "Title : San Francisco Giants vs. Colorado Rockies - 4/13/19 MLB Pick, Odds, and Prediction - Sports Chat Place\n",
      "News Source : Sportschatplace.com\n",
      "Published On : 2019-04-13T07:57:00Z\n",
      "======================================================================\n",
      "Title : 'Living here is expensive. Dying here is extremely cheap': Kashmiri voters speak out - CNN\n",
      "News Source : CNN\n",
      "Published On : 2019-04-13T07:51:00Z\n",
      "======================================================================\n",
      "Title : Man charged with attempted murder after child falls from balcony - BBC News\n",
      "News Source : Bbc.com\n",
      "Published On : 2019-04-13T05:14:20Z\n",
      "======================================================================\n",
      "Title : Sources: Lakers coach search eyes Lue, Williams - ESPN\n",
      "News Source : Espn.com\n",
      "Published On : 2019-04-13T04:25:47Z\n",
      "======================================================================\n",
      "Title : Drivers say kids are getting rides from Uber and Lyft despite company rules prohibiting it - KATU\n",
      "News Source : Katu.com\n",
      "Published On : 2019-04-13T03:43:54Z\n",
      "======================================================================\n",
      "Title : Detroit Metro Airport among new locations potentially exposed to measles - WDIV ClickOnDetroit\n",
      "News Source : Clickondetroit.com\n",
      "Published On : 2019-04-13T03:27:11Z\n",
      "======================================================================\n",
      "Title : sports Top of leader board packed with stars - Pittsburgh Post-Gazette\n",
      "News Source : Post-gazette.com\n",
      "Published On : 2019-04-13T03:18:00Z\n",
      "======================================================================\n",
      "Title : Source of Mystery E. Coli Outbreak That Sickened Over 100 May Be Ground Beef - Gizmodo\n",
      "News Source : Gizmodo.com\n",
      "Published On : 2019-04-13T02:55:00Z\n",
      "======================================================================\n",
      "Title : Hogan Gidley: Democrats 'won't lift a finger' to help White House on immigration - Washington Examiner\n",
      "News Source : Washingtonexaminer.com\n",
      "Published On : 2019-04-13T02:12:00Z\n",
      "======================================================================\n",
      "Title : President Trump targets Rep. Ilhan Omar with a video of Twin Towers burning - The Washington Post\n",
      "News Source : The Washington Post\n",
      "Published On : 2019-04-13T00:45:00Z\n",
      "======================================================================\n",
      "Title : Science behind black hole image may have far-reaching applications - WRAL.com\n",
      "News Source : Wral.com\n",
      "Published On : 2019-04-13T00:27:44Z\n",
      "======================================================================\n",
      "Title : Facebook’s latest mishap involves bizarre messages printed on Oculus controllers - BGR\n",
      "News Source : Bgr.com\n",
      "Published On : 2019-04-13T00:08:00Z\n",
      "======================================================================\n",
      "Title : As Ecuador Harbored Assange, It Was Subjected to Threats and Leaks - The New York Times\n",
      "News Source : The New York Times\n",
      "Published On : 2019-04-12T23:52:42Z\n",
      "======================================================================\n",
      "Title : Earnings Season Starts with a Bullish Bang - Investopedia\n",
      "News Source : Investopedia.com\n",
      "Published On : 2019-04-12T23:10:09Z\n",
      "======================================================================\n",
      "Title : Pete Buttigieg confronts Pence over religion ahead of 2020 bid - CBS Evening News\n",
      "News Source : Youtube.com\n",
      "Published On : 2019-04-12T23:01:14Z\n",
      "======================================================================\n",
      "Title : Harvick claims provisional pole for Richmond - Racer\n",
      "News Source : Racer.com\n",
      "Published On : 2019-04-12T22:46:48Z\n",
      "======================================================================\n",
      "Title : Local businesses cashing in on Coachella - KESQ\n",
      "News Source : Kesq.com\n",
      "Published On : 2019-04-12T21:41:00Z\n",
      "======================================================================\n"
     ]
    }
   ],
   "source": [
    "google_news=requests.get(query_url).json()\n",
    "noOfArticles = len(google_news['articles'])\n",
    "print(f\"No. of Articles: {noOfArticles}\\n\")\n",
    "\n",
    "for articleNo in range(noOfArticles):\n",
    "    print(f\"Title : {google_news['articles'][articleNo]['title']}\")\n",
    "    print(f\"News Source : {google_news['articles'][articleNo]['source']['name']}\")\n",
    "    print(f\"Published On : {google_news['articles'][articleNo]['publishedAt']}\")\n",
    "    print(\"======================================================================\")"
   ]
  },
  {
   "cell_type": "code",
   "execution_count": null,
   "metadata": {},
   "outputs": [],
   "source": []
  }
 ],
 "metadata": {
  "kernelspec": {
   "display_name": "Project_ML",
   "language": "python",
   "name": "proj_ml"
  },
  "language_info": {
   "codemirror_mode": {
    "name": "ipython",
    "version": 3
   },
   "file_extension": ".py",
   "mimetype": "text/x-python",
   "name": "python",
   "nbconvert_exporter": "python",
   "pygments_lexer": "ipython3",
   "version": "3.7.3"
  }
 },
 "nbformat": 4,
 "nbformat_minor": 2
}
