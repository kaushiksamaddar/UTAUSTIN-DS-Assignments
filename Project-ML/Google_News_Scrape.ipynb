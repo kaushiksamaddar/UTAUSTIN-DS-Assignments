{
 "cells": [
  {
   "cell_type": "code",
   "execution_count": 1,
   "metadata": {},
   "outputs": [],
   "source": [
    "from bs4 import BeautifulSoup\n",
    "from splinter import Browser\n",
    "import requests\n",
    "import time\n",
    "import json\n",
    "import pprint"
   ]
  },
  {
   "cell_type": "code",
   "execution_count": 2,
   "metadata": {},
   "outputs": [],
   "source": [
    "executable_path = {\"executable_path\": \"/usr/local/bin/chromedriver\"}\n",
    "browser = Browser(\"chrome\", **executable_path, headless=False)"
   ]
  },
  {
   "cell_type": "code",
   "execution_count": 3,
   "metadata": {},
   "outputs": [],
   "source": [
    "url = \"https://news.google.com/\"\n",
    "browser.visit(url)"
   ]
  },
  {
   "cell_type": "code",
   "execution_count": 4,
   "metadata": {},
   "outputs": [
    {
     "name": "stdout",
     "output_type": "stream",
     "text": [
      "https://news.google.com/topics/CAAqIggKIhxDQkFTRHdvSkwyMHZNRGxqTjNjd0VnSmxiaWdBUAE?hl=en-US&gl=US&ceid=US%3Aen\n"
     ]
    }
   ],
   "source": [
    "soup = BeautifulSoup(browser.html, \"html.parser\")\n",
    "a_class_arr = soup.find_all('a', class_='SFllF')\n",
    "\n",
    "us_link = \"\"\n",
    "\n",
    "for a_indx in range(len(a_class_arr)):\n",
    "        a_tag = soup.find_all('a', class_='SFllF')[a_indx]\n",
    "        if a_tag['aria-label'] == 'U.S.':\n",
    "            us_link = a_tag['href']\n",
    "            break\n",
    "\n",
    "us_url = url + us_link.split('./')[1]\n",
    "print(us_url)\n",
    "\n",
    "browser.visit(us_url)"
   ]
  },
  {
   "cell_type": "code",
   "execution_count": 5,
   "metadata": {},
   "outputs": [
    {
     "name": "stdout",
     "output_type": "stream",
     "text": [
      "The Latest: DHs denies Trump urged 'anything illegal'\n",
      "Louisiana arson suspect expressed disgust with Baptist churches on Facebook\n",
      "Man charged with attempted murder after child falls from balcony\n",
      "New Bernie Sanders healthcare overhaul would cover illegal immigrants\n",
      "William Barr Obliterated the DOJ’s Standard for Defending Laws Because Donald Trump Asked\n",
      "State Abortion Foes Split Over How Best To Test Roe v. Wade : Shots - Health News\n",
      "Trump goes after Ilhan Omar with dramatic video using 9/11 footage\n",
      "Joe Biden Navigates Complaints About Touching as 2020 Spotlight Looms\n",
      "Corey Lewandowski involved in GOP 2020 campaign to dethrone Ocasio-Cortez\n",
      "Buttigieg on Pence: 'I'm not critical of his faith, I'm critical of bad policies' | TheHill\n",
      "Tornadoes, severe storms target South on Saturday\n",
      "Attorney general backtracks on claim about \"spying\" on Trump campaign\n",
      "Expert test-taker in college admissions scheme pleads guilty\n",
      "New York Post cover featuring Ilhan Omar quote and 9/11 terror attack hit stands Thursday\n",
      "Police say they found 'Trivago' pitchman passed out in a car in a moving lane of traffic\n",
      "Georgetown students vote overwhelmingly to approve fee for slavery reparations | TheHill\n",
      "Arizona man accused of killing 2 daughters, wife and another man over affair accusation\n",
      "American Airlines passenger jumps from plane at Phoenix airport, sustains 'minor injuries'\n",
      "Son of sheriff's deputy accused of setting 3 black churches on fire in Louisiana\n",
      "White House panic: Secret Service scrambled after man sets himself on fire\n",
      "Pete Buttigieg is polling in third in Iowa and New Hampshire\n",
      "Escaped teenager charged in mother's death recaptured\n",
      "Trump told acting DHS secretary he'd pardon him if he violates immigration law\n",
      "Blizzard in Upper Midwest leaves thousands without power; fights canceled\n",
      "Prosecutors accuse lawyer Michael Avenatti of stealing millions from his clients\n",
      "Illinois joins multiple-state push for Trump's tax returns ahead of 2020 election\n",
      "Brigham Young Students Value Their Strict Honor Code. But Not the Harsh Punishments.\n",
      "Colorado's controversial 'red flag' gun bill becomes law. Some sheriffs would rather to go to jail than enforce it\n",
      "To get Trump's tax returns, Democrats must show they have a good reason\n",
      "Homeless 'Good Samaritan' Gets Probation in Gas Money Scam\n",
      "Over 3 A.M. Dissent, Supreme Court Says Alabama Execution May Proceed\n",
      "Mitch McConnell is getting sick of Donald Trump's bad nominees\n",
      "Better Buy: General Electric vs. Boeing\n",
      "Mississippi community left confused after bowls of mashed potatoes mysteriously keep appearing\n",
      "Here's what happens if you don't file your taxes before April 15\n",
      "Antiabortion ‘heartbeat’ bills are illegal. Why do Republicans keep passing them?\n",
      "Rosenstein Says Mueller Report Will Outline Russian Cybercrimes\n",
      "Trump's controversial transgender military policy goes into effect\n",
      "House Oversight chair plans to subpoena for 10 years of Trump financial records: report | TheHill\n",
      "Pete Buttigieg confronts Pence over religion ahead of 2020 bid\n",
      "Roger Stone connected to matters still under investigation, Justice Dept. says\n",
      "27 More Graves May Have Been Found at a Notorious Florida Boys School\n",
      "No espionage charge for Yujing Zhang, arrested at Mar-a-Lago\n",
      "Fact-checking Mike Pence's WikiLeaks claim\n",
      "Greg Craig, Obama White House counsel, pleads not guilty to false statements charges\n",
      "Conservative speaker who was assaulted by protester: 'This was a warning shot to conservatives'\n",
      "Settlement Reunites 2700 Central American Children With Parents in the US\n",
      "'It's tragic': Video shows Chicago police officers hitting, dragging student down stairs\n",
      "California Governor Seeks to Protect Utilities From the Cost of Wildfires\n",
      "Ohio couple made laxative cookies for striking school workers\n",
      "Doctors blast Pentagon’s transgender policy going into effect today\n",
      "Senate Republicans use rules change to push through district court judges\n",
      "Dems counter portrait of discord | TheHill\n",
      "Trump's Fed pick Stephen Moore is a self-described 'radical' who said he's not a 'big believer in democracy'\n",
      "Iowa Dem in Trump district won't seek reelection in 2020 | TheHill\n",
      "New Jersey law allows terminally ill to get life-ending meds\n",
      "3 big tax planning takeaways from Sen. Elizabeth Warren's 2018 return\n",
      "Texas legislators considering making abortion potentially punishable by death\n",
      "Nancy Pelosi: \"The power of the speaker is awesome\"\n",
      "Senate votes to confirm Bernhardt to be interior secretary\n",
      "CNN's Don Lemon knocks Ivanka Trump: 'I don't know if she has any relevance now'\n",
      "Trump wants the GOP to be the 'party of healthcare.' Other Republicans aren't so sure.\n",
      "NYT: Trump's sister retires to avoid fraud investigation\n",
      "Minnesota businessman suspected of killing wife, then self\n",
      "With Polls and Private Meetings, Republicans Craft Blunt Messaging to Paint Democrats as Extreme\n",
      "Body cam footage shows officers attempting to save Justine Damond after she was shot by officer\n",
      "Jay Inslee's town hall: Six takeaways\n",
      "Bonnie Haim case: Husband found guilty of killing her in 1993, burying body in backyard\n",
      "Prosecutor refuses to charge Pittsburgh mayor over gun control restrictions | TheHill\n",
      "Tennessee wants to make it harder to hold voter registration drives\n"
     ]
    }
   ],
   "source": [
    "soup2 = BeautifulSoup(browser.html, \"html.parser\")\n",
    "articleArr = soup2.find_all('article')\n",
    "for article_indx in range(len(articleArr)):\n",
    "    if articleArr[article_indx].h3:\n",
    "        print(articleArr[article_indx].h3.a.text)"
   ]
  },
  {
   "cell_type": "code",
   "execution_count": null,
   "metadata": {},
   "outputs": [],
   "source": []
  }
 ],
 "metadata": {
  "kernelspec": {
   "display_name": "Project_ML",
   "language": "python",
   "name": "proj_ml"
  },
  "language_info": {
   "codemirror_mode": {
    "name": "ipython",
    "version": 3
   },
   "file_extension": ".py",
   "mimetype": "text/x-python",
   "name": "python",
   "nbconvert_exporter": "python",
   "pygments_lexer": "ipython3",
   "version": "3.7.3"
  }
 },
 "nbformat": 4,
 "nbformat_minor": 2
}
